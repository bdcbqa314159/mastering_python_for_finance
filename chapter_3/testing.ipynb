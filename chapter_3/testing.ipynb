{
 "cells": [
  {
   "cell_type": "code",
   "execution_count": 7,
   "metadata": {},
   "outputs": [],
   "source": [
    "from coding_library import *"
   ]
  },
  {
   "cell_type": "code",
   "execution_count": 8,
   "metadata": {},
   "outputs": [
    {
     "name": "stdout",
     "output_type": "stream",
     "text": [
      "Root is: 1.2414999999999783\n",
      "Iterations: 6242\n"
     ]
    }
   ],
   "source": [
    "y = lambda x: x**3 + 2.0*x**2 - 5.\n",
    "root, iterations = incremental_search (y, -5., 5., 0.001)\n",
    "print(f\"Root is: {root}\")\n",
    "print(f\"Iterations: {iterations}\")"
   ]
  },
  {
   "cell_type": "code",
   "execution_count": 9,
   "metadata": {},
   "outputs": [
    {
     "name": "stdout",
     "output_type": "stream",
     "text": [
      "Root is: 1.241898536682129\n",
      "Iterations: 21\n"
     ]
    }
   ],
   "source": [
    "y = lambda x: x**3 + 2.0*x**2 - 5.\n",
    "root, iterations = bisection(y, -5, 5, 0.00001, 100)\n",
    "print(f\"Root is: {root}\")\n",
    "print(f\"Iterations: {iterations}\")"
   ]
  },
  {
   "cell_type": "code",
   "execution_count": 10,
   "metadata": {},
   "outputs": [
    {
     "name": "stdout",
     "output_type": "stream",
     "text": [
      "Root is: 1.2419008036615726\n",
      "Iterations: 9\n"
     ]
    }
   ],
   "source": [
    "y = lambda x: x**3 + 2.0*x**2 - 5.\n",
    "dy = lambda x: 2*x**2 + 4.0*x\n",
    "root, iterations = newton(y, dy, 5.0, 0.00001, 100)\n",
    "print(f\"Root is: {root}\")\n",
    "print(f\"Iterations: {iterations}\")"
   ]
  },
  {
   "cell_type": "code",
   "execution_count": 11,
   "metadata": {},
   "outputs": [
    {
     "name": "stdout",
     "output_type": "stream",
     "text": [
      "Root is: 1.2418965622558549\n",
      "Iterations: 14\n"
     ]
    }
   ],
   "source": [
    "y = lambda x: x**3 + 2.0*x**2 - 5.\n",
    "root, iterations = secant(y, -5.0, 5.0, 0.00001, 100)\n",
    "print(f\"Root is: {root}\")\n",
    "print(f\"Iterations: {iterations}\")"
   ]
  },
  {
   "cell_type": "code",
   "execution_count": 12,
   "metadata": {},
   "outputs": [
    {
     "name": "stdout",
     "output_type": "stream",
     "text": [
      "Bisection method: 1.241903305053711\n",
      "Newton's method: 1.2418965630344798\n",
      "Secant method: 1.2418965630344803\n",
      "Brent's method: 1.241896563034559\n"
     ]
    }
   ],
   "source": [
    "import scipy.optimize as optimize\n",
    "y = lambda x: x**3 + 2.*x**2 - 5.\n",
    "dy = lambda x: 3.*x**2 + 4.*x\n",
    "# Call method: bisect(f, a, b[, args, xtol, rtol, maxiter, ...])\n",
    "print(f\"Bisection method: {optimize.bisect(y, -5., 5., xtol=0.00001)}\")\n",
    "# Call method: newton(func, x0[, fprime, args, tol, ...])\n",
    "print(f\"Newton's method: {optimize.newton(y, 5., fprime=dy)}\")\n",
    "# When fprime=None, then the secant method is used.\n",
    "print (f\"Secant method: {optimize.newton(y, 5.)}\")\n",
    "# Call method: brentq(f, a, b[, args, xtol, rtol, maxiter, ...])\n",
    "print(f\"Brent's method: {optimize.brentq(y, -5., 5.)}\")"
   ]
  },
  {
   "cell_type": "code",
   "execution_count": 14,
   "metadata": {},
   "outputs": [
    {
     "name": "stdout",
     "output_type": "stream",
     "text": [
      "[1.24189656]\n"
     ]
    }
   ],
   "source": [
    "y = lambda x: x**3 + 2.*x**2 - 5.\n",
    "dy = lambda x: 3.*x**2 + 4.*x\n",
    "print(optimize.fsolve(y, 5., fprime=dy))"
   ]
  },
  {
   "cell_type": "code",
   "execution_count": 16,
   "metadata": {},
   "outputs": [
    {
     "name": "stdout",
     "output_type": "stream",
     "text": [
      " message: The solution converged.\n",
      " success: True\n",
      "  status: 1\n",
      "     fun: [ 3.553e-15]\n",
      "       x: [ 1.242e+00]\n",
      "  method: hybr\n",
      "    nfev: 12\n",
      "    fjac: [[-1.000e+00]]\n",
      "       r: [-9.595e+00]\n",
      "     qtf: [-3.736e-09]\n"
     ]
    }
   ],
   "source": [
    "print(optimize.root(y, 5.))"
   ]
  },
  {
   "cell_type": "code",
   "execution_count": 17,
   "metadata": {},
   "outputs": [
    {
     "name": "stdout",
     "output_type": "stream",
     "text": [
      "[-1.33306553]\n"
     ]
    },
    {
     "name": "stderr",
     "output_type": "stream",
     "text": [
      "/var/folders/09/zcndpz6n6jxbcrkqzlh7bclm0000gn/T/ipykernel_18922/269983661.py:1: RuntimeWarning: The iteration is not making good progress, as measured by the \n",
      "  improvement from the last ten iterations.\n",
      "  print(optimize.fsolve(y, -5., fprime=dy))\n"
     ]
    }
   ],
   "source": [
    "print(optimize.fsolve(y, -5., fprime=dy))"
   ]
  },
  {
   "cell_type": "code",
   "execution_count": null,
   "metadata": {},
   "outputs": [],
   "source": []
  }
 ],
 "metadata": {
  "kernelspec": {
   "display_name": "venv",
   "language": "python",
   "name": "python3"
  },
  "language_info": {
   "codemirror_mode": {
    "name": "ipython",
    "version": 3
   },
   "file_extension": ".py",
   "mimetype": "text/x-python",
   "name": "python",
   "nbconvert_exporter": "python",
   "pygments_lexer": "ipython3",
   "version": "3.11.7"
  }
 },
 "nbformat": 4,
 "nbformat_minor": 2
}
