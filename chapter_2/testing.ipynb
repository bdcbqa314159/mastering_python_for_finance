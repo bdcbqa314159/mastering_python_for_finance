{
 "cells": [
  {
   "cell_type": "code",
   "execution_count": 1,
   "metadata": {},
   "outputs": [],
   "source": [
    "from coding_library import *"
   ]
  },
  {
   "cell_type": "code",
   "execution_count": 2,
   "metadata": {},
   "outputs": [
    {
     "data": {
      "text/plain": [
       "(0.5077431878770808, -0.008481900352462384)"
      ]
     },
     "execution_count": 2,
     "metadata": {},
     "output_type": "execute_result"
    }
   ],
   "source": [
    "from scipy import stats\n",
    "\n",
    "stock_returns = [0.065, 0.0265, -0.0593, -0.001, 0.0346]\n",
    "mkt_returns = [0.055, -0.09, -0.041, 0.045, 0.022]\n",
    "beta, alpha, r_value, p_value, std_err = stats.linregress(stock_returns, mkt_returns)\n",
    "\n",
    "beta, alpha"
   ]
  },
  {
   "cell_type": "code",
   "execution_count": 3,
   "metadata": {},
   "outputs": [],
   "source": [
    "import numpy as np\n",
    "import statsmodels.api as sm\n",
    "# Generate some sample data\n",
    "num_periods = 9\n",
    "all_values = np.array([np.random.random(8) for i in range(num_periods)])\n",
    "# Filter the data\n",
    "y_values = all_values[:, 0] # First column values as Y\n",
    "x_values = all_values[:, 1:] # All other values as X\n",
    "x_values = sm.add_constant(x_values) # Include the intercept\n",
    "results = sm.OLS(y_values, x_values).fit() # Regress and fit the model"
   ]
  },
  {
   "cell_type": "code",
   "execution_count": 4,
   "metadata": {},
   "outputs": [
    {
     "name": "stdout",
     "output_type": "stream",
     "text": [
      "                            OLS Regression Results                            \n",
      "==============================================================================\n",
      "Dep. Variable:                      y   R-squared:                       0.955\n",
      "Model:                            OLS   Adj. R-squared:                  0.639\n",
      "Method:                 Least Squares   F-statistic:                     3.024\n",
      "Date:                Sun, 10 Mar 2024   Prob (F-statistic):              0.417\n",
      "Time:                        14:40:49   Log-Likelihood:                 11.375\n",
      "No. Observations:                   9   AIC:                            -6.751\n",
      "Df Residuals:                       1   BIC:                            -5.173\n",
      "Df Model:                           7                                         \n",
      "Covariance Type:            nonrobust                                         \n",
      "==============================================================================\n",
      "                 coef    std err          t      P>|t|      [0.025      0.975]\n",
      "------------------------------------------------------------------------------\n",
      "const         -0.0572      0.335     -0.171      0.892      -4.308       4.194\n",
      "x1            -1.8947      1.324     -1.431      0.388     -18.720      14.931\n",
      "x2             1.6463      0.935      1.760      0.329     -10.237      13.529\n",
      "x3            -1.2900      1.188     -1.086      0.474     -16.390      13.810\n",
      "x4             2.1543      1.312      1.642      0.348     -14.518      18.827\n",
      "x5             0.0731      0.222      0.329      0.798      -2.751       2.898\n",
      "x6             0.3856      0.940      0.410      0.752     -11.562      12.333\n",
      "x7            -0.0031      0.757     -0.004      0.997      -9.615       9.609\n",
      "==============================================================================\n",
      "Omnibus:                        0.878   Durbin-Watson:                   2.327\n",
      "Prob(Omnibus):                  0.645   Jarque-Bera (JB):                0.589\n",
      "Skew:                          -0.103   Prob(JB):                        0.745\n",
      "Kurtosis:                       1.764   Cond. No.                         60.2\n",
      "==============================================================================\n",
      "\n",
      "Notes:\n",
      "[1] Standard Errors assume that the covariance matrix of the errors is correctly specified.\n"
     ]
    },
    {
     "name": "stderr",
     "output_type": "stream",
     "text": [
      "/Users/bernardocohen/repos/python/mastering_python_for_finance/venv/lib/python3.11/site-packages/scipy/stats/_stats_py.py:1971: UserWarning: kurtosistest only valid for n>=20 ... continuing anyway, n=9\n",
      "  k, _ = kurtosistest(a, axis)\n"
     ]
    }
   ],
   "source": [
    "print(results.summary())"
   ]
  },
  {
   "cell_type": "code",
   "execution_count": 5,
   "metadata": {},
   "outputs": [
    {
     "data": {
      "text/plain": [
       "array([-0.05718742, -1.89474135,  1.64626241, -1.29004789,  2.15425536,\n",
       "        0.07312914,  0.38562831, -0.00312286])"
      ]
     },
     "execution_count": 5,
     "metadata": {},
     "output_type": "execute_result"
    }
   ],
   "source": [
    "results.params"
   ]
  },
  {
   "cell_type": "code",
   "execution_count": 6,
   "metadata": {},
   "outputs": [
    {
     "name": "stdout",
     "output_type": "stream",
     "text": [
      "Welcome to the CBC MILP Solver \n",
      "Version: 2.10.3 \n",
      "Build Date: Dec 15 2019 \n",
      "\n",
      "command line - /Users/bernardocohen/repos/python/mastering_python_for_finance/venv/lib/python3.11/site-packages/pulp/solverdir/cbc/osx/64/cbc /var/folders/09/zcndpz6n6jxbcrkqzlh7bclm0000gn/T/53f3be5d15b44e2dbdc534197090eacc-pulp.mps -max -timeMode elapsed -branch -printingOptions all -solution /var/folders/09/zcndpz6n6jxbcrkqzlh7bclm0000gn/T/53f3be5d15b44e2dbdc534197090eacc-pulp.sol (default strategy 1)\n",
      "At line 2 NAME          MODEL\n",
      "At line 3 ROWS\n",
      "At line 8 COLUMNS\n",
      "At line 16 RHS\n",
      "At line 20 BOUNDS\n",
      "At line 21 ENDATA\n",
      "Problem MODEL has 3 rows, 2 columns and 5 elements\n",
      "Coin0008I MODEL read with 0 errors\n",
      "Option for timeMode changed from cpu to elapsed\n",
      "Presolve 2 (-1) rows, 2 (0) columns and 4 (-1) elements\n",
      "0  Obj -0 Dual inf 4.999998 (2)\n",
      "2  Obj 180\n",
      "Optimal - objective value 180\n",
      "After Postsolve, objective 180, infeasibilities - dual 0 (0), primal 0 (0)\n",
      "Optimal objective 180 - 2 iterations time 0.002, Presolve 0.00\n",
      "Option for printingOptions changed from normal to all\n",
      "Total time (CPU seconds):       0.00   (Wallclock seconds):       0.01\n",
      "\n"
     ]
    },
    {
     "name": "stderr",
     "output_type": "stream",
     "text": [
      "/Users/bernardocohen/repos/python/mastering_python_for_finance/venv/lib/python3.11/site-packages/pulp/pulp.py:1316: UserWarning: Spaces are not permitted in the name. Converted to '_'\n",
      "  warnings.warn(\"Spaces are not permitted in the name. Converted to '_'\")\n"
     ]
    },
    {
     "data": {
      "text/plain": [
       "1"
      ]
     },
     "execution_count": 6,
     "metadata": {},
     "output_type": "execute_result"
    }
   ],
   "source": [
    "import pulp\n",
    "x = pulp.LpVariable(\"x\", lowBound=0)\n",
    "y = pulp.LpVariable(\"y\", lowBound=0)\n",
    "problem = pulp.LpProblem(\"A simple maximization objective\",\n",
    "pulp.LpMaximize)\n",
    "problem += 3*x + 2*y, \"The objective function\"\n",
    "problem += 2*x + y <= 100, \"1st constraint\"\n",
    "problem += x + y <= 80, \"2nd constraint\"\n",
    "problem += x <= 40, \"3rd constraint\"\n",
    "problem.solve()"
   ]
  },
  {
   "cell_type": "code",
   "execution_count": 7,
   "metadata": {},
   "outputs": [
    {
     "name": "stdout",
     "output_type": "stream",
     "text": [
      "x = 20.0\n",
      "y = 60.0\n"
     ]
    }
   ],
   "source": [
    "for variable in problem.variables():\n",
    "    print(f\"{variable.name} = {variable.value()}\")"
   ]
  },
  {
   "cell_type": "code",
   "execution_count": 8,
   "metadata": {},
   "outputs": [],
   "source": [
    "# import pulp\n",
    "dealers = [\"X\", \"Y\", \"Z\"]\n",
    "variable_costs = {\"X\": 500,\n",
    "\"Y\": 350,\n",
    "\"Z\": 450}\n",
    "fixed_costs = {\"X\": 4000,\n",
    "\"Y\": 2000,\n",
    "\"Z\": 6000}\n",
    "# Define PuLP variables to solve\n",
    "quantities = pulp.LpVariable.dicts(\"quantity\",\n",
    "dealers,\n",
    "lowBound=0,\n",
    "cat=pulp.LpInteger)\n",
    "is_orders = pulp.LpVariable.dicts(\"orders\",\n",
    "dealers,\n",
    "cat=pulp.LpBinary)"
   ]
  },
  {
   "cell_type": "markdown",
   "metadata": {},
   "source": [
    "\"\"\"\n",
    "This is an example of implementing an integer programming model with\n",
    "binary\n",
    "variables\n",
    "the wrong way.\n",
    "\"\"\"\n",
    "#### Initialize the model with constraints\n",
    "model = pulp.LpProblem(\"A cost minimization problem\",\n",
    "pulp.LpMinimize)\n",
    "model += sum([(variable_costs[i] * quantities[i] +\n",
    "fixed_costs[i])*is_orders[i] for i in dealers]), \\\n",
    "\"Minimize portfolio cost\"\n",
    "model += sum([quantities[i] for i in dealers]) == 150, \"Total contracts required\"\n",
    "\n",
    "model += 30 <= quantities[\"X\"] <= 100, \"Boundary of total volume of X\"\n",
    "model += 30 <= quantities[\"Y\"] <= 90, \"Boundary of total volume of Y\"\n",
    "model += 30 <= quantities[\"Z\"] <= 70, \"Boundary of total volume of Z\"\n",
    "model.solve()"
   ]
  },
  {
   "cell_type": "code",
   "execution_count": 9,
   "metadata": {},
   "outputs": [
    {
     "name": "stdout",
     "output_type": "stream",
     "text": [
      "Welcome to the CBC MILP Solver \n",
      "Version: 2.10.3 \n",
      "Build Date: Dec 15 2019 \n",
      "\n",
      "command line - /Users/bernardocohen/repos/python/mastering_python_for_finance/venv/lib/python3.11/site-packages/pulp/solverdir/cbc/osx/64/cbc /var/folders/09/zcndpz6n6jxbcrkqzlh7bclm0000gn/T/76d23e6ac2e54f57a8565c206ceac760-pulp.mps -timeMode elapsed -branch -printingOptions all -solution /var/folders/09/zcndpz6n6jxbcrkqzlh7bclm0000gn/T/76d23e6ac2e54f57a8565c206ceac760-pulp.sol (default strategy 1)\n",
      "At line 2 NAME          MODEL\n",
      "At line 3 ROWS\n",
      "At line 9 COLUMNS\n",
      "At line 37 RHS\n",
      "At line 42 BOUNDS\n",
      "At line 49 ENDATA\n",
      "Problem MODEL has 4 rows, 6 columns and 9 elements\n",
      "Coin0008I MODEL read with 0 errors\n",
      "Option for timeMode changed from cpu to elapsed\n",
      "Continuous objective value is 65642.9 - 0.00 seconds\n",
      "Cgl0004I processed model has 4 rows, 6 columns (6 integer (3 of which binary)) and 9 elements\n",
      "Cutoff increment increased from 1e-05 to 49.9999\n",
      "Cbc0038I Initial state - 1 integers unsatisfied sum - 0.142857\n",
      "Cbc0038I Solution found of 66500\n",
      "Cbc0038I Cleaned solution of 66500\n",
      "Cbc0038I Before mini branch and bound, 5 integers at bound fixed and 0 continuous of which 1 were internal integer and 0 internal continuous\n",
      "Cbc0038I Full problem 4 rows 6 columns, reduced to 0 rows 0 columns\n",
      "Cbc0038I Mini branch and bound did not improve solution (0.01 seconds)\n",
      "Cbc0038I Round again with cutoff of 66369.3\n",
      "Cbc0038I Reduced cost fixing fixed 1 variables on major pass 2\n",
      "Cbc0038I Pass   1: suminf.    0.02179 (1) obj. 66369.3 iterations 1\n",
      "Cbc0038I Pass   2: suminf.    0.40000 (1) obj. 65900 iterations 2\n",
      "Cbc0038I Pass   3: suminf.    0.28268 (1) obj. 66369.3 iterations 1\n",
      "Cbc0038I Pass   4: suminf.    0.28268 (1) obj. 66369.3 iterations 0\n",
      "Cbc0038I Pass   5: suminf.    0.32446 (2) obj. 66369.3 iterations 1\n",
      "Cbc0038I Pass   6: suminf.    0.02179 (1) obj. 66369.3 iterations 1\n",
      "Cbc0038I Pass   7: suminf.    0.02179 (1) obj. 66369.3 iterations 0\n",
      "Cbc0038I Pass   8: suminf.    0.32446 (2) obj. 66369.3 iterations 1\n",
      "Cbc0038I Pass   9: suminf.    0.02179 (1) obj. 66369.3 iterations 1\n",
      "Cbc0038I Pass  10: suminf.    0.02179 (1) obj. 66369.3 iterations 0\n",
      "Cbc0038I Pass  11: suminf.    0.02179 (1) obj. 66369.3 iterations 0\n",
      "Cbc0038I Pass  12: suminf.    0.02179 (1) obj. 66369.3 iterations 0\n",
      "Cbc0038I Pass  13: suminf.    0.02179 (1) obj. 66369.3 iterations 0\n",
      "Cbc0038I Pass  14: suminf.    0.02179 (1) obj. 66369.3 iterations 0\n",
      "Cbc0038I Pass  15: suminf.    0.02179 (1) obj. 66369.3 iterations 0\n",
      "Cbc0038I Pass  16: suminf.    0.02179 (1) obj. 66369.3 iterations 0\n",
      "Cbc0038I Pass  17: suminf.    0.32446 (2) obj. 66369.3 iterations 1\n",
      "Cbc0038I Pass  18: suminf.    0.02179 (1) obj. 66369.3 iterations 1\n",
      "Cbc0038I Pass  19: suminf.    0.02179 (1) obj. 66369.3 iterations 0\n",
      "Cbc0038I Pass  20: suminf.    0.02179 (1) obj. 66369.3 iterations 0\n",
      "Cbc0038I Pass  21: suminf.    0.02179 (1) obj. 66369.3 iterations 0\n",
      "Cbc0038I Pass  22: suminf.    0.02179 (1) obj. 66369.3 iterations 0\n",
      "Cbc0038I Pass  23: suminf.    0.02179 (1) obj. 66369.3 iterations 0\n",
      "Cbc0038I Pass  24: suminf.    0.02179 (1) obj. 66369.3 iterations 0\n",
      "Cbc0038I Pass  25: suminf.    0.02179 (1) obj. 66369.3 iterations 0\n",
      "Cbc0038I Pass  26: suminf.    0.02179 (1) obj. 66369.3 iterations 0\n",
      "Cbc0038I Pass  27: suminf.    0.02179 (1) obj. 66369.3 iterations 0\n",
      "Cbc0038I Pass  28: suminf.    0.02179 (1) obj. 66369.3 iterations 0\n",
      "Cbc0038I Pass  29: suminf.    0.32446 (2) obj. 66369.3 iterations 1\n",
      "Cbc0038I Pass  30: suminf.    0.02179 (1) obj. 66369.3 iterations 1\n",
      "Cbc0038I No solution found this major pass\n",
      "Cbc0038I Before mini branch and bound, 2 integers at bound fixed and 0 continuous\n",
      "Cbc0038I Mini branch and bound did not improve solution (0.01 seconds)\n",
      "Cbc0038I After 0.01 seconds - Feasibility pump exiting with objective of 66500 - took 0.00 seconds\n",
      "Cbc0012I Integer solution of 66500 found by feasibility pump after 0 iterations and 0 nodes (0.01 seconds)\n",
      "Cbc0031I 3 added rows had average density of 2.6666667\n",
      "Cbc0013I At root node, 8 cuts changed objective from 65642.857 to 66600 in 1 passes\n",
      "Cbc0014I Cut generator 0 (Probing) - 6 row cuts average 2.3 elements, 0 column cuts (0 active)  in 0.000 seconds - new frequency is 1\n",
      "Cbc0014I Cut generator 1 (Gomory) - 1 row cuts average 4.0 elements, 0 column cuts (0 active)  in 0.000 seconds - new frequency is 1\n",
      "Cbc0014I Cut generator 2 (Knapsack) - 0 row cuts average 0.0 elements, 0 column cuts (0 active)  in 0.000 seconds - new frequency is -100\n",
      "Cbc0014I Cut generator 3 (Clique) - 0 row cuts average 0.0 elements, 0 column cuts (0 active)  in 0.000 seconds - new frequency is -100\n",
      "Cbc0014I Cut generator 4 (MixedIntegerRounding2) - 0 row cuts average 0.0 elements, 0 column cuts (0 active)  in 0.000 seconds - new frequency is -100\n",
      "Cbc0014I Cut generator 5 (FlowCover) - 0 row cuts average 0.0 elements, 0 column cuts (0 active)  in 0.000 seconds - new frequency is -100\n",
      "Cbc0014I Cut generator 6 (TwoMirCuts) - 1 row cuts average 2.0 elements, 0 column cuts (0 active)  in 0.000 seconds - new frequency is -100\n",
      "Cbc0001I Search completed - best objective 66500, took 0 iterations and 0 nodes (0.01 seconds)\n",
      "Cbc0035I Maximum depth 0, 1 variables fixed on reduced cost\n",
      "Cuts at root node changed objective from 65642.9 to 66600\n",
      "Probing was tried 1 times and created 6 cuts of which 0 were active after adding rounds of cuts (0.000 seconds)\n",
      "Gomory was tried 1 times and created 1 cuts of which 0 were active after adding rounds of cuts (0.000 seconds)\n",
      "Knapsack was tried 1 times and created 0 cuts of which 0 were active after adding rounds of cuts (0.000 seconds)\n",
      "Clique was tried 1 times and created 0 cuts of which 0 were active after adding rounds of cuts (0.000 seconds)\n",
      "MixedIntegerRounding2 was tried 1 times and created 0 cuts of which 0 were active after adding rounds of cuts (0.000 seconds)\n",
      "FlowCover was tried 1 times and created 0 cuts of which 0 were active after adding rounds of cuts (0.000 seconds)\n",
      "TwoMirCuts was tried 1 times and created 1 cuts of which 0 were active after adding rounds of cuts (0.000 seconds)\n",
      "ZeroHalf was tried 1 times and created 0 cuts of which 0 were active after adding rounds of cuts (0.000 seconds)\n",
      "\n",
      "Result - Optimal solution found\n",
      "\n",
      "Objective value:                66500.00000000\n",
      "Enumerated nodes:               0\n",
      "Total iterations:               0\n",
      "Time (CPU seconds):             0.00\n",
      "Time (Wallclock seconds):       0.01\n",
      "\n",
      "Option for printingOptions changed from normal to all\n",
      "Total time (CPU seconds):       0.00   (Wallclock seconds):       0.01\n",
      "\n"
     ]
    },
    {
     "data": {
      "text/plain": [
       "1"
      ]
     },
     "execution_count": 9,
     "metadata": {},
     "output_type": "execute_result"
    }
   ],
   "source": [
    "\"\"\"\n",
    "This is an example of implementing an IP model\n",
    "with binary variables the correct way.\n",
    "\"\"\"\n",
    "# Initialize the model with constraints\n",
    "model = pulp.LpProblem(\"A cost minimization problem\",\n",
    "pulp.LpMinimize)\n",
    "model += sum([variable_costs[i]*quantities[i] +\n",
    "fixed_costs[i]*is_orders[i] for i in dealers]), \\\n",
    "\"Minimize portfolio cost\"\n",
    "model += sum([quantities[i] for i in dealers]) == 150, \\\n",
    "\"Total contracts required\"\n",
    "model += is_orders[\"X\"]*30 <= quantities[\"X\"] <= \\\n",
    "is_orders[\"X\"]*100, \"Boundary of total volume of X\"\n",
    "model += is_orders[\"Y\"]*30 <= quantities[\"Y\"] <= \\\n",
    "is_orders[\"Y\"]*90, \"Boundary of total volume of Y\"\n",
    "model += is_orders[\"Z\"]*30 <= quantities[\"Z\"] <= \\\n",
    "is_orders[\"Z\"]*70, \"Boundary of total volume of Z\"\n",
    "model.solve()"
   ]
  },
  {
   "cell_type": "code",
   "execution_count": 10,
   "metadata": {},
   "outputs": [
    {
     "name": "stdout",
     "output_type": "stream",
     "text": [
      "Minimization results\n",
      "orders_X = 0.0\n",
      "orders_Y = 1.0\n",
      "orders_Z = 1.0\n",
      "quantity_X = 0.0\n",
      "quantity_Y = 90.0\n",
      "quantity_Z = 60.0\n",
      "Total cost: 66500.0\n"
     ]
    }
   ],
   "source": [
    "print(\"Minimization results\")\n",
    "for variable in model.variables():\n",
    "    print(f\"{variable.name} = {variable.value()}\")\n",
    "\n",
    "print(f\"Total cost: {pulp.value(model.objective)}\")"
   ]
  },
  {
   "cell_type": "code",
   "execution_count": 11,
   "metadata": {},
   "outputs": [],
   "source": [
    "\"\"\" Linear algebra with NumPy matrices \"\"\"\n",
    "import numpy as np\n",
    "A = np.array([[2, 1, 1],\n",
    "[1, 3, 2],\n",
    "[1, 0, 0]])\n",
    "B = np.array([4, 5, 6])"
   ]
  },
  {
   "cell_type": "code",
   "execution_count": 12,
   "metadata": {},
   "outputs": [
    {
     "name": "stdout",
     "output_type": "stream",
     "text": [
      "[  6.  15. -23.]\n"
     ]
    }
   ],
   "source": [
    "print(np.linalg.solve(A, B))"
   ]
  },
  {
   "cell_type": "code",
   "execution_count": 13,
   "metadata": {},
   "outputs": [
    {
     "data": {
      "text/plain": [
       "array([  6.,  15., -23.])"
      ]
     },
     "execution_count": 13,
     "metadata": {},
     "output_type": "execute_result"
    }
   ],
   "source": [
    "\"\"\" LU decomposition with SciPy \"\"\"\n",
    "import scipy.linalg as linalg\n",
    "import numpy as np\n",
    "A = np.array([[2., 1., 1.],\n",
    "[1., 3., 2.],\n",
    "[1., 0., 0.]])\n",
    "B = np.array([4., 5., 6.])\n",
    "LU = linalg.lu_factor(A)\n",
    "x = linalg.lu_solve(LU, B)\n",
    "x"
   ]
  },
  {
   "cell_type": "code",
   "execution_count": 14,
   "metadata": {},
   "outputs": [
    {
     "data": {
      "text/plain": [
       "(array([[1., 0., 0.],\n",
       "        [0., 1., 0.],\n",
       "        [0., 0., 1.]]),\n",
       " array([[ 1. ,  0. ,  0. ],\n",
       "        [ 0.5,  1. ,  0. ],\n",
       "        [ 0.5, -0.2,  1. ]]),\n",
       " array([[ 2. ,  1. ,  1. ],\n",
       "        [ 0. ,  2.5,  1.5],\n",
       "        [ 0. ,  0. , -0.2]]))"
      ]
     },
     "execution_count": 14,
     "metadata": {},
     "output_type": "execute_result"
    }
   ],
   "source": [
    "P, L, U = linalg.lu(A)\n",
    "P, L, U"
   ]
  },
  {
   "cell_type": "code",
   "execution_count": 15,
   "metadata": {},
   "outputs": [
    {
     "data": {
      "text/plain": [
       "array([[ 3.16227766,  0.        ,  0.        ,  0.        ],\n",
       "       [-0.31622777,  3.3015148 ,  0.        ,  0.        ],\n",
       "       [ 0.63245553, -0.24231301,  3.08889696,  0.        ],\n",
       "       [ 0.        ,  0.9086738 , -0.25245792,  2.6665665 ]])"
      ]
     },
     "execution_count": 15,
     "metadata": {},
     "output_type": "execute_result"
    }
   ],
   "source": [
    "\"\"\" Cholesky decomposition with NumPy \"\"\"\n",
    "import numpy as np\n",
    "A = np.array([[10., -1., 2., 0.],\n",
    "[-1., 11., -1., 3.],\n",
    "[2., -1., 10., -1.],\n",
    "[0.0, 3., -1., 8.]])\n",
    "B = np.array([6., 25., -11., 15.])\n",
    "L = np.linalg.cholesky(A)\n",
    "L"
   ]
  },
  {
   "cell_type": "code",
   "execution_count": 16,
   "metadata": {},
   "outputs": [
    {
     "name": "stdout",
     "output_type": "stream",
     "text": [
      "[[10. -1.  2.  0.]\n",
      " [-1. 11. -1.  3.]\n",
      " [ 2. -1. 10. -1.]\n",
      " [ 0.  3. -1.  8.]]\n"
     ]
    }
   ],
   "source": [
    "print(np.dot(L, L.T.conj())) # A=L.L*"
   ]
  },
  {
   "cell_type": "code",
   "execution_count": 17,
   "metadata": {},
   "outputs": [
    {
     "data": {
      "text/plain": [
       "array([ 1.,  2., -1.,  1.])"
      ]
     },
     "execution_count": 17,
     "metadata": {},
     "output_type": "execute_result"
    }
   ],
   "source": [
    "y = np.linalg.solve(L, B) # L.L*.x=B; When L*.x=y, then L.y=B\n",
    "x = np.linalg.solve(L.T.conj(), y) # x=L*'.y\n",
    "x"
   ]
  },
  {
   "cell_type": "code",
   "execution_count": 18,
   "metadata": {},
   "outputs": [
    {
     "name": "stdout",
     "output_type": "stream",
     "text": [
      "[[  6.]\n",
      " [ 25.]\n",
      " [-11.]\n",
      " [ 15.]]\n"
     ]
    }
   ],
   "source": [
    "print(np.mat(A) * np.mat(x).T) # B=Ax"
   ]
  },
  {
   "cell_type": "code",
   "execution_count": 19,
   "metadata": {},
   "outputs": [
    {
     "data": {
      "text/plain": [
       "array([  6.,  15., -23.])"
      ]
     },
     "execution_count": 19,
     "metadata": {},
     "output_type": "execute_result"
    }
   ],
   "source": [
    "\"\"\" QR decomposition with scipy \"\"\"\n",
    "import scipy.linalg as linalg\n",
    "import numpy as np\n",
    "A = np.array([\n",
    "[2., 1., 1.],\n",
    "[1., 3., 2.],\n",
    "[1., 0., 0]])\n",
    "B = np.array([4., 5., 6.])\n",
    "Q, R = linalg.qr(A) # QR decomposition\n",
    "y = np.dot(Q.T, B) # Let y=Q'.B\n",
    "x = linalg.solve(R, y) # Solve Rx=y\n",
    "x"
   ]
  },
  {
   "cell_type": "code",
   "execution_count": 20,
   "metadata": {},
   "outputs": [
    {
     "data": {
      "text/plain": [
       "array([ 1.,  2., -1.,  1.])"
      ]
     },
     "execution_count": 20,
     "metadata": {},
     "output_type": "execute_result"
    }
   ],
   "source": [
    "A = np.array([[10., -1., 2., 0.],\n",
    "[-1., 11., -1., 3.],\n",
    "[2., -1., 10., -1.],\n",
    "[0.0, 3., -1., 8.]])\n",
    "B = np.array([6., 25., -11., 15.])\n",
    "n = 25\n",
    "\n",
    "x = jacobi(A,B,n)\n",
    "x"
   ]
  },
  {
   "cell_type": "code",
   "execution_count": 21,
   "metadata": {},
   "outputs": [
    {
     "data": {
      "text/plain": [
       "array([ 1.,  2., -1.,  1.])"
      ]
     },
     "execution_count": 21,
     "metadata": {},
     "output_type": "execute_result"
    }
   ],
   "source": [
    "A = np.array([[10., -1., 2., 0.],\n",
    "[-1., 11., -1., 3.],\n",
    "[2., -1., 10., -1.],\n",
    "[0.0, 3., -1., 8.]])\n",
    "B = np.array([6., 25., -11., 15.])\n",
    "n = 25\n",
    "\n",
    "x = gauss(A,B,n)\n",
    "x"
   ]
  },
  {
   "cell_type": "code",
   "execution_count": null,
   "metadata": {},
   "outputs": [],
   "source": []
  },
  {
   "cell_type": "code",
   "execution_count": null,
   "metadata": {},
   "outputs": [],
   "source": []
  },
  {
   "cell_type": "code",
   "execution_count": null,
   "metadata": {},
   "outputs": [],
   "source": []
  },
  {
   "cell_type": "code",
   "execution_count": null,
   "metadata": {},
   "outputs": [],
   "source": []
  },
  {
   "cell_type": "code",
   "execution_count": null,
   "metadata": {},
   "outputs": [],
   "source": []
  },
  {
   "cell_type": "code",
   "execution_count": null,
   "metadata": {},
   "outputs": [],
   "source": []
  },
  {
   "cell_type": "code",
   "execution_count": null,
   "metadata": {},
   "outputs": [],
   "source": []
  },
  {
   "cell_type": "code",
   "execution_count": null,
   "metadata": {},
   "outputs": [],
   "source": []
  }
 ],
 "metadata": {
  "kernelspec": {
   "display_name": "venv",
   "language": "python",
   "name": "python3"
  },
  "language_info": {
   "codemirror_mode": {
    "name": "ipython",
    "version": 3
   },
   "file_extension": ".py",
   "mimetype": "text/x-python",
   "name": "python",
   "nbconvert_exporter": "python",
   "pygments_lexer": "ipython3",
   "version": "3.11.7"
  }
 },
 "nbformat": 4,
 "nbformat_minor": 2
}
