{
 "cells": [
  {
   "cell_type": "code",
   "execution_count": 1,
   "metadata": {},
   "outputs": [],
   "source": [
    "from coding_library import *"
   ]
  },
  {
   "cell_type": "code",
   "execution_count": 2,
   "metadata": {},
   "outputs": [
    {
     "data": {
      "text/plain": [
       "4.82565175125599"
      ]
     },
     "execution_count": 2,
     "metadata": {},
     "output_type": "execute_result"
    }
   ],
   "source": [
    "eu_option = BinomialEuropeanOption(50, 50, 0.05, 0.5, 2, {\"pu\":0.2, \"pd\":0.2, \"is_call\":False})\n",
    "eu_option.price()"
   ]
  },
  {
   "cell_type": "code",
   "execution_count": 3,
   "metadata": {},
   "outputs": [
    {
     "data": {
      "text/plain": [
       "4.825651751255992"
      ]
     },
     "execution_count": 3,
     "metadata": {},
     "output_type": "execute_result"
    }
   ],
   "source": [
    "eu_option_2 = BinomialTreeOption(50, 50, 0.05, 0.5, 2, {\"pu\":0.2, \"pd\":0.2, \"is_call\":False})\n",
    "eu_option_2.price()"
   ]
  },
  {
   "cell_type": "code",
   "execution_count": 4,
   "metadata": {},
   "outputs": [
    {
     "data": {
      "text/plain": [
       "5.113060082823486"
      ]
     },
     "execution_count": 4,
     "metadata": {},
     "output_type": "execute_result"
    }
   ],
   "source": [
    "am_option = BinomialTreeOption(50, 50, 0.05, 0.5, 2,{\"pu\": 0.2, \"pd\": 0.2, \"is_call\": False, \"is_eu\": False})\n",
    "am_option.price()"
   ]
  },
  {
   "cell_type": "code",
   "execution_count": 5,
   "metadata": {},
   "outputs": [
    {
     "name": "stdout",
     "output_type": "stream",
     "text": [
      "European put: 3.1051473412967003\n"
     ]
    }
   ],
   "source": [
    "eu_option = BinomialCRROption(50, 50, 0.05, 0.5, 2,{\"sigma\": 0.3, \"is_call\": False})\n",
    "print(f\"European put: {eu_option.price()}\")\n"
   ]
  },
  {
   "cell_type": "code",
   "execution_count": 6,
   "metadata": {},
   "outputs": [
    {
     "name": "stdout",
     "output_type": "stream",
     "text": [
      "American put: 3.4091814964048277\n"
     ]
    }
   ],
   "source": [
    "am_option = BinomialCRROption(50, 50, 0.05, 0.5, 2,{\"sigma\": 0.3, \"is_call\": False, \"is_eu\": False})\n",
    "print(f\"American put: {am_option.price()}\")"
   ]
  },
  {
   "cell_type": "code",
   "execution_count": 7,
   "metadata": {},
   "outputs": [
    {
     "name": "stdout",
     "output_type": "stream",
     "text": [
      "European put: 3.5674299991832887\n"
     ]
    }
   ],
   "source": [
    "eu_option = BinomialLROption(50, 50, 0.05, 0.5, 3,{\"sigma\": 0.3, \"is_call\": False})\n",
    "print(f\"European put: {eu_option.price()}\")"
   ]
  },
  {
   "cell_type": "code",
   "execution_count": 8,
   "metadata": {},
   "outputs": [
    {
     "name": "stdout",
     "output_type": "stream",
     "text": [
      "American put: 3.668179104133528\n"
     ]
    }
   ],
   "source": [
    "am_option = BinomialLROption(50, 50, 0.05, 0.5, 3,{\"sigma\": 0.3, \"is_call\": False, \"is_eu\": False})\n",
    "print(f\"American put: {am_option.price()}\")"
   ]
  },
  {
   "cell_type": "code",
   "execution_count": 10,
   "metadata": {},
   "outputs": [
    {
     "name": "stdout",
     "output_type": "stream",
     "text": [
      "European call values\n",
      "Price: 4.803864657409284 \n",
      "Delta: 0.5888015221823649 \n",
      "Gamma: 0.036736782388357196\n"
     ]
    }
   ],
   "source": [
    "eu_call = BinomialLRWithGreeks(50, 50, 0.05, 0.5, 300, {\"sigma\": 0.3, \"is_call\": True})\n",
    "results = eu_call.price()\n",
    "print(\"European call values\")\n",
    "print(f\"Price: {results[0]} \\nDelta: {results[1]} \\nGamma: {results[2]}\")"
   ]
  },
  {
   "cell_type": "code",
   "execution_count": 11,
   "metadata": {},
   "outputs": [
    {
     "name": "stdout",
     "output_type": "stream",
     "text": [
      "European put values\n",
      "Price: 3.569360258827997 \n",
      "Delta: -0.41119847781760727 \n",
      "Gamma: 0.03673678238835338\n"
     ]
    }
   ],
   "source": [
    "eu_put = BinomialLRWithGreeks(50, 50, 0.05, 0.5, 300, {\"sigma\": 0.3, \"is_call\": False})\n",
    "results = eu_put.price()\n",
    "print(\"European put values\")\n",
    "print(f\"Price: {results[0]} \\nDelta: {results[1]} \\nGamma: {results[2]}\")"
   ]
  },
  {
   "cell_type": "code",
   "execution_count": null,
   "metadata": {},
   "outputs": [],
   "source": []
  }
 ],
 "metadata": {
  "kernelspec": {
   "display_name": "venv",
   "language": "python",
   "name": "python3"
  },
  "language_info": {
   "codemirror_mode": {
    "name": "ipython",
    "version": 3
   },
   "file_extension": ".py",
   "mimetype": "text/x-python",
   "name": "python",
   "nbconvert_exporter": "python",
   "pygments_lexer": "ipython3",
   "version": "3.11.7"
  }
 },
 "nbformat": 4,
 "nbformat_minor": 2
}
