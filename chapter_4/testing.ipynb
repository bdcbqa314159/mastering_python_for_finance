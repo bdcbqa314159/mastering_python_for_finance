{
 "cells": [
  {
   "cell_type": "code",
   "execution_count": 1,
   "metadata": {},
   "outputs": [],
   "source": [
    "from coding_library import *"
   ]
  },
  {
   "cell_type": "code",
   "execution_count": 2,
   "metadata": {},
   "outputs": [
    {
     "data": {
      "text/plain": [
       "4.82565175125599"
      ]
     },
     "execution_count": 2,
     "metadata": {},
     "output_type": "execute_result"
    }
   ],
   "source": [
    "eu_option = BinomialEuropeanOption(50, 50, 0.05, 0.5, 2, {\"pu\":0.2, \"pd\":0.2, \"is_call\":False})\n",
    "eu_option.price()"
   ]
  },
  {
   "cell_type": "code",
   "execution_count": 3,
   "metadata": {},
   "outputs": [
    {
     "data": {
      "text/plain": [
       "4.825651751255992"
      ]
     },
     "execution_count": 3,
     "metadata": {},
     "output_type": "execute_result"
    }
   ],
   "source": [
    "eu_option_2 = BinomialTreeOption(50, 50, 0.05, 0.5, 2, {\"pu\":0.2, \"pd\":0.2, \"is_call\":False})\n",
    "eu_option_2.price()"
   ]
  },
  {
   "cell_type": "code",
   "execution_count": 4,
   "metadata": {},
   "outputs": [
    {
     "data": {
      "text/plain": [
       "5.113060082823486"
      ]
     },
     "execution_count": 4,
     "metadata": {},
     "output_type": "execute_result"
    }
   ],
   "source": [
    "am_option = BinomialTreeOption(50, 50, 0.05, 0.5, 2,{\"pu\": 0.2, \"pd\": 0.2, \"is_call\": False, \"is_eu\": False})\n",
    "am_option.price()"
   ]
  },
  {
   "cell_type": "code",
   "execution_count": 5,
   "metadata": {},
   "outputs": [
    {
     "name": "stdout",
     "output_type": "stream",
     "text": [
      "European put: 3.1051473412967003\n"
     ]
    }
   ],
   "source": [
    "eu_option = BinomialCRROption(50, 50, 0.05, 0.5, 2,{\"sigma\": 0.3, \"is_call\": False})\n",
    "print(f\"European put: {eu_option.price()}\")\n"
   ]
  },
  {
   "cell_type": "code",
   "execution_count": 6,
   "metadata": {},
   "outputs": [
    {
     "name": "stdout",
     "output_type": "stream",
     "text": [
      "American put: 3.4091814964048277\n"
     ]
    }
   ],
   "source": [
    "am_option = BinomialCRROption(50, 50, 0.05, 0.5, 2,{\"sigma\": 0.3, \"is_call\": False, \"is_eu\": False})\n",
    "print(f\"American put: {am_option.price()}\")"
   ]
  },
  {
   "cell_type": "code",
   "execution_count": 7,
   "metadata": {},
   "outputs": [
    {
     "name": "stdout",
     "output_type": "stream",
     "text": [
      "European put: 3.5674299991832887\n"
     ]
    }
   ],
   "source": [
    "eu_option = BinomialLROption(50, 50, 0.05, 0.5, 3,{\"sigma\": 0.3, \"is_call\": False})\n",
    "print(f\"European put: {eu_option.price()}\")"
   ]
  },
  {
   "cell_type": "code",
   "execution_count": 8,
   "metadata": {},
   "outputs": [
    {
     "name": "stdout",
     "output_type": "stream",
     "text": [
      "American put: 3.668179104133528\n"
     ]
    }
   ],
   "source": [
    "am_option = BinomialLROption(50, 50, 0.05, 0.5, 3,{\"sigma\": 0.3, \"is_call\": False, \"is_eu\": False})\n",
    "print(f\"American put: {am_option.price()}\")"
   ]
  },
  {
   "cell_type": "code",
   "execution_count": 10,
   "metadata": {},
   "outputs": [
    {
     "name": "stdout",
     "output_type": "stream",
     "text": [
      "European call values\n",
      "Price: 4.803864657409284 \n",
      "Delta: 0.5888015221823649 \n",
      "Gamma: 0.036736782388357196\n"
     ]
    }
   ],
   "source": [
    "eu_call = BinomialLRWithGreeks(50, 50, 0.05, 0.5, 300, {\"sigma\": 0.3, \"is_call\": True})\n",
    "results = eu_call.price()\n",
    "print(\"European call values\")\n",
    "print(f\"Price: {results[0]} \\nDelta: {results[1]} \\nGamma: {results[2]}\")"
   ]
  },
  {
   "cell_type": "code",
   "execution_count": 11,
   "metadata": {},
   "outputs": [
    {
     "name": "stdout",
     "output_type": "stream",
     "text": [
      "European put values\n",
      "Price: 3.569360258827997 \n",
      "Delta: -0.41119847781760727 \n",
      "Gamma: 0.03673678238835338\n"
     ]
    }
   ],
   "source": [
    "eu_put = BinomialLRWithGreeks(50, 50, 0.05, 0.5, 300, {\"sigma\": 0.3, \"is_call\": False})\n",
    "results = eu_put.price()\n",
    "print(\"European put values\")\n",
    "print(f\"Price: {results[0]} \\nDelta: {results[1]} \\nGamma: {results[2]}\")"
   ]
  },
  {
   "cell_type": "code",
   "execution_count": 2,
   "metadata": {},
   "outputs": [
    {
     "name": "stdout",
     "output_type": "stream",
     "text": [
      "European put: 3.330905491759248\n"
     ]
    }
   ],
   "source": [
    "eu_option = TrinomialTreeOption(50, 50, 0.05, 0.5, 2,{\"sigma\": 0.3, \"is_call\": False})\n",
    "print(f\"European put: {eu_option.price()}\")"
   ]
  },
  {
   "cell_type": "code",
   "execution_count": 3,
   "metadata": {},
   "outputs": [
    {
     "name": "stdout",
     "output_type": "stream",
     "text": [
      "American put: 3.48241453902267\n"
     ]
    }
   ],
   "source": [
    "am_option = TrinomialTreeOption(50, 50, 0.05, 0.5, 2,{\"sigma\": 0.3, \"is_call\": False, \"is_eu\": False})\n",
    "print(f\"American put: {am_option.price()}\")"
   ]
  },
  {
   "cell_type": "code",
   "execution_count": 2,
   "metadata": {},
   "outputs": [
    {
     "name": "stdout",
     "output_type": "stream",
     "text": [
      "European put: 3.1051473412967057\n"
     ]
    }
   ],
   "source": [
    "eu_option = BinomialCRRLattice(50, 50, 0.05, 0.5, 2,{\"sigma\": 0.3, \"is_call\": False})\n",
    "print(f\"European put: {eu_option.price()}\")"
   ]
  },
  {
   "cell_type": "code",
   "execution_count": 3,
   "metadata": {},
   "outputs": [
    {
     "name": "stdout",
     "output_type": "stream",
     "text": [
      "American put: 3.409181496404833\n"
     ]
    }
   ],
   "source": [
    "am_option = BinomialCRRLattice(50, 50, 0.05, 0.5, 2,{\"sigma\": 0.3, \"is_call\": False, \"is_eu\": False})\n",
    "print(f\"American put: {am_option.price()}\")"
   ]
  },
  {
   "cell_type": "code",
   "execution_count": 2,
   "metadata": {},
   "outputs": [
    {
     "name": "stdout",
     "output_type": "stream",
     "text": [
      "European put: 3.330905491759248\n"
     ]
    }
   ],
   "source": [
    "eu_option = TrinomialLattice(50, 50, 0.05, 0.5, 2,{\"sigma\": 0.3, \"is_call\": False})\n",
    "print(f\"European put: {eu_option.price()}\")"
   ]
  },
  {
   "cell_type": "code",
   "execution_count": 3,
   "metadata": {},
   "outputs": [
    {
     "name": "stdout",
     "output_type": "stream",
     "text": [
      "American put: 3.48241453902267\n"
     ]
    }
   ],
   "source": [
    "am_option = TrinomialLattice(50, 50, 0.05, 0.5, 2,{\"sigma\": 0.3, \"is_call\": False, \"is_eu\": False})\n",
    "print(f\"American put: {am_option.price()}\")"
   ]
  },
  {
   "cell_type": "code",
   "execution_count": 2,
   "metadata": {},
   "outputs": [
    {
     "name": "stdout",
     "output_type": "stream",
     "text": [
      "Put option price 4.072882278148043\n"
     ]
    }
   ],
   "source": [
    "option = FDExplicitEu(50,50,0.1,5./12, .4, 100,100,1000, False)\n",
    "print(f\"Put option price {option.price()}\")"
   ]
  },
  {
   "cell_type": "code",
   "execution_count": 3,
   "metadata": {},
   "outputs": [
    {
     "name": "stdout",
     "output_type": "stream",
     "text": [
      "Put option price with bad M and N -1.6291077072251005e+53\n"
     ]
    }
   ],
   "source": [
    "option = FDExplicitEu(50,50,0.1,5./12, .4, 100,100,100, False)\n",
    "print(f\"Put option price with bad M and N {option.price()}\")"
   ]
  },
  {
   "cell_type": "code",
   "execution_count": 3,
   "metadata": {},
   "outputs": [
    {
     "name": "stdout",
     "output_type": "stream",
     "text": [
      "Put option price 4.065801939431454\n"
     ]
    }
   ],
   "source": [
    "option = FDImplicitEu(50,50,0.1,5./12, .4, 100,100,100, False)\n",
    "print(f\"Put option price {option.price()}\")"
   ]
  },
  {
   "cell_type": "code",
   "execution_count": 5,
   "metadata": {},
   "outputs": [
    {
     "name": "stdout",
     "output_type": "stream",
     "text": [
      "Put option price 4.071594188049893\n"
     ]
    }
   ],
   "source": [
    "option = FDImplicitEu(50,50,0.1,5./12, .4, 100,100,1000, False)\n",
    "print(f\"Put option price {option.price()}\")"
   ]
  },
  {
   "cell_type": "code",
   "execution_count": 2,
   "metadata": {},
   "outputs": [
    {
     "name": "stdout",
     "output_type": "stream",
     "text": [
      "Put option price 4.072254507998114\n"
     ]
    }
   ],
   "source": [
    "option = FDCnEu(50,50,0.1,5./12, .4, 100,100,100, False)\n",
    "print(f\"Put option price {option.price()}\")"
   ]
  },
  {
   "cell_type": "code",
   "execution_count": 3,
   "metadata": {},
   "outputs": [
    {
     "name": "stdout",
     "output_type": "stream",
     "text": [
      "Put option price 4.072238354486825\n"
     ]
    }
   ],
   "source": [
    "option = FDCnEu(50,50,0.1,5./12, .4, 100,100,1000, False)\n",
    "print(f\"Put option price {option.price()}\")"
   ]
  },
  {
   "cell_type": "code",
   "execution_count": 5,
   "metadata": {},
   "outputs": [
    {
     "name": "stdout",
     "output_type": "stream",
     "text": [
      "Call option price 5.491560552934787\n"
     ]
    }
   ],
   "source": [
    "option = FDCnDo(50,50,0.1,5./12, .4, 40,100,120,500)\n",
    "print(f\"Call option price {option.price()}\")"
   ]
  },
  {
   "cell_type": "code",
   "execution_count": 6,
   "metadata": {},
   "outputs": [
    {
     "name": "stdout",
     "output_type": "stream",
     "text": [
      "Put option price 0.5413635028954449\n"
     ]
    }
   ],
   "source": [
    "option = FDCnDo(50,50,0.1,5./12, .4, 40,100,120,500, False)\n",
    "print(f\"Put option price {option.price()}\")"
   ]
  },
  {
   "cell_type": "code",
   "execution_count": 2,
   "metadata": {},
   "outputs": [
    {
     "name": "stdout",
     "output_type": "stream",
     "text": [
      "Call option price 6.108682815392218\n"
     ]
    }
   ],
   "source": [
    "option = FDCnAm(50,50,0.1,5./12, .4, 100, 100, 42, 1.2, 0.001)\n",
    "print(f\"Call option price {option.price()}\")"
   ]
  },
  {
   "cell_type": "code",
   "execution_count": 4,
   "metadata": {},
   "outputs": [
    {
     "name": "stdout",
     "output_type": "stream",
     "text": [
      "Put option price 4.2777642293837355\n"
     ]
    }
   ],
   "source": [
    "option = FDCnAm(50,50,0.1,5./12, .4, 100, 100, 42, 1.2, 0.001,False)\n",
    "print(f\"Put option price {option.price()}\")"
   ]
  },
  {
   "cell_type": "code",
   "execution_count": 2,
   "metadata": {},
   "outputs": [],
   "source": [
    "strikes = [ 75, 80, 85, 90, 92.5, 95, 97.5,100, 105, 110, 115, 120, 125]\n",
    "put_prices = [0.16, 0.32, 0.6, 1.22, 1.77, 2.54, 3.55,4.8, 7.75, 11.8, 15.96, 20.75, 25.81]\n",
    "\n",
    "model = ImpliedVolatilityModel(99.62, 0.0248, 78/365.,0.0182, 77, is_call=False)\n",
    "impvols_put = model.get_implied_volatilities(strikes,put_prices)"
   ]
  },
  {
   "cell_type": "code",
   "execution_count": 3,
   "metadata": {},
   "outputs": [
    {
     "data": {
      "image/png": "[encoded data removed]",
      "text/plain": [
       "<Figure size 640x480 with 1 Axes>"
      ]
     },
     "metadata": {},
     "output_type": "display_data"
    }
   ],
   "source": [
    "\n",
    "plt.plot(strikes, impvols_put)\n",
    "plt.xlabel('Strike Prices')\n",
    "plt.ylabel('Implied Volatilities')\n",
    "plt.title('AAPL Put Implied Volatilities expiring in 78 days')\n",
    "plt.show()"
   ]
  },
  {
   "cell_type": "code",
   "execution_count": null,
   "metadata": {},
   "outputs": [],
   "source": []
  }
 ],
 "metadata": {
  "kernelspec": {
   "display_name": "venv",
   "language": "python",
   "name": "python3"
  },
  "language_info": {
   "codemirror_mode": {
    "name": "ipython",
    "version": 3
   },
   "file_extension": ".py",
   "mimetype": "text/x-python",
   "name": "python",
   "nbconvert_exporter": "python",
   "pygments_lexer": "ipython3",
   "version": "3.11.7"
  }
 },
 "nbformat": 4,
 "nbformat_minor": 2
}
