{
 "cells": [
  {
   "cell_type": "code",
   "execution_count": 1,
   "metadata": {},
   "outputs": [],
   "source": [
    "from coding_library import *"
   ]
  },
  {
   "cell_type": "code",
   "execution_count": 2,
   "metadata": {},
   "outputs": [
    {
     "name": "stdout",
     "output_type": "stream",
     "text": [
      "hello you joe doe\n",
      "hello you david\n",
      "hello you peter\n",
      "hello you alexa\n"
     ]
    }
   ],
   "source": [
    "names = [\"\", \"david\", \"peter\", \"alexa\"]\n",
    "\n",
    "for name in names:\n",
    "    if name == \"\":\n",
    "        greet = Greeting()\n",
    "    else:\n",
    "        greet = Greeting(name)\n",
    "    greet.say_hello()"
   ]
  },
  {
   "cell_type": "code",
   "execution_count": 5,
   "metadata": {},
   "outputs": [
    {
     "name": "stdout",
     "output_type": "stream",
     "text": [
      "Hello david\n",
      "Hello peter\n",
      "Hello alexa\n"
     ]
    }
   ],
   "source": [
    "from functools import partial\n",
    "\n",
    "say_hello_to = partial(greeting, \"Hello\")\n",
    "\n",
    "names = [\"david\", \"peter\", \"alexa\"]\n",
    "\n",
    "for name in names:\n",
    "    say_hello_to(name)"
   ]
  },
  {
   "cell_type": "markdown",
   "metadata": {},
   "source": [
    "Text Examples\n",
    "===\n",
    "This is an example of an *italic* text.\n",
    "This is an example of a **bold*** text.\n",
    "This is an example of a list item:\n",
    "- Item #1\n",
    "- Item #2\n",
    "- Item #3\n",
    "---\n",
    "#heading 1\n",
    "##heading 2\n",
    "###heading 3\n",
    "####heading 4\n",
    "#####heading 5\n",
    "######heading 6"
   ]
  },
  {
   "cell_type": "markdown",
   "metadata": {},
   "source": []
  }
 ],
 "metadata": {
  "kernelspec": {
   "display_name": "venv",
   "language": "python",
   "name": "python3"
  },
  "language_info": {
   "codemirror_mode": {
    "name": "ipython",
    "version": 3
   },
   "file_extension": ".py",
   "mimetype": "text/x-python",
   "name": "python",
   "nbconvert_exporter": "python",
   "pygments_lexer": "ipython3",
   "version": "3.11.7"
  }
 },
 "nbformat": 4,
 "nbformat_minor": 2
}
